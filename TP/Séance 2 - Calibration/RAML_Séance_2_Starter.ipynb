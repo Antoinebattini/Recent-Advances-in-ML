{
  "cells": [
    {
      "cell_type": "markdown",
      "metadata": {
        "id": "CbgVPoXOPJeA"
      },
      "source": [
        "# Séance 2 - Calibration\n",
        "\n",
        "On se propose dans ce notebook d'explorer une manière de recalibrer un modèle machine learning.\n",
        "Pour le faire, nous allons travailler avec un dataset déséquilibré qui a pour but de prédire si une étoile est un pulsar ou non. On ne s'intéresse pas au travail de feature engineering ici."
      ]
    },
    {
      "cell_type": "code",
      "execution_count": 1,
      "metadata": {
        "colab": {
          "base_uri": "https://localhost:8080/",
          "height": 206
        },
        "id": "Ki1tOkKKIpo9",
        "outputId": "360d7f4b-bd05-412d-910b-ec64263ab3a9"
      },
      "outputs": [
        {
          "data": {
            "text/html": [
              "<div>\n",
              "<style scoped>\n",
              "    .dataframe tbody tr th:only-of-type {\n",
              "        vertical-align: middle;\n",
              "    }\n",
              "\n",
              "    .dataframe tbody tr th {\n",
              "        vertical-align: top;\n",
              "    }\n",
              "\n",
              "    .dataframe thead th {\n",
              "        text-align: right;\n",
              "    }\n",
              "</style>\n",
              "<table border=\"1\" class=\"dataframe\">\n",
              "  <thead>\n",
              "    <tr style=\"text-align: right;\">\n",
              "      <th></th>\n",
              "      <th>Mean_ip</th>\n",
              "      <th>Std_ip</th>\n",
              "      <th>Excess_kurtosis_ip</th>\n",
              "      <th>Skewness_ip</th>\n",
              "      <th>Mean_DM</th>\n",
              "      <th>Std_DM</th>\n",
              "      <th>Excess_kurtosis_DM</th>\n",
              "      <th>Skewness_DM</th>\n",
              "      <th>target</th>\n",
              "    </tr>\n",
              "  </thead>\n",
              "  <tbody>\n",
              "    <tr>\n",
              "      <th>0</th>\n",
              "      <td>140.562500</td>\n",
              "      <td>55.683782</td>\n",
              "      <td>-0.234571</td>\n",
              "      <td>-0.699648</td>\n",
              "      <td>3.199833</td>\n",
              "      <td>19.110426</td>\n",
              "      <td>7.975532</td>\n",
              "      <td>74.242225</td>\n",
              "      <td>0</td>\n",
              "    </tr>\n",
              "    <tr>\n",
              "      <th>1</th>\n",
              "      <td>102.507812</td>\n",
              "      <td>58.882430</td>\n",
              "      <td>0.465318</td>\n",
              "      <td>-0.515088</td>\n",
              "      <td>1.677258</td>\n",
              "      <td>14.860146</td>\n",
              "      <td>10.576487</td>\n",
              "      <td>127.393580</td>\n",
              "      <td>0</td>\n",
              "    </tr>\n",
              "    <tr>\n",
              "      <th>2</th>\n",
              "      <td>103.015625</td>\n",
              "      <td>39.341649</td>\n",
              "      <td>0.323328</td>\n",
              "      <td>1.051164</td>\n",
              "      <td>3.121237</td>\n",
              "      <td>21.744669</td>\n",
              "      <td>7.735822</td>\n",
              "      <td>63.171909</td>\n",
              "      <td>0</td>\n",
              "    </tr>\n",
              "    <tr>\n",
              "      <th>3</th>\n",
              "      <td>136.750000</td>\n",
              "      <td>57.178449</td>\n",
              "      <td>-0.068415</td>\n",
              "      <td>-0.636238</td>\n",
              "      <td>3.642977</td>\n",
              "      <td>20.959280</td>\n",
              "      <td>6.896499</td>\n",
              "      <td>53.593661</td>\n",
              "      <td>0</td>\n",
              "    </tr>\n",
              "    <tr>\n",
              "      <th>4</th>\n",
              "      <td>88.726562</td>\n",
              "      <td>40.672225</td>\n",
              "      <td>0.600866</td>\n",
              "      <td>1.123492</td>\n",
              "      <td>1.178930</td>\n",
              "      <td>11.468720</td>\n",
              "      <td>14.269573</td>\n",
              "      <td>252.567306</td>\n",
              "      <td>0</td>\n",
              "    </tr>\n",
              "  </tbody>\n",
              "</table>\n",
              "</div>"
            ],
            "text/plain": [
              "      Mean_ip     Std_ip  Excess_kurtosis_ip  Skewness_ip   Mean_DM  \\\n",
              "0  140.562500  55.683782           -0.234571    -0.699648  3.199833   \n",
              "1  102.507812  58.882430            0.465318    -0.515088  1.677258   \n",
              "2  103.015625  39.341649            0.323328     1.051164  3.121237   \n",
              "3  136.750000  57.178449           -0.068415    -0.636238  3.642977   \n",
              "4   88.726562  40.672225            0.600866     1.123492  1.178930   \n",
              "\n",
              "      Std_DM  Excess_kurtosis_DM  Skewness_DM  target  \n",
              "0  19.110426            7.975532    74.242225       0  \n",
              "1  14.860146           10.576487   127.393580       0  \n",
              "2  21.744669            7.735822    63.171909       0  \n",
              "3  20.959280            6.896499    53.593661       0  \n",
              "4  11.468720           14.269573   252.567306       0  "
            ]
          },
          "execution_count": 1,
          "metadata": {},
          "output_type": "execute_result"
        }
      ],
      "source": [
        "import numpy as np\n",
        "import pandas as pd\n",
        "\n",
        "%matplotlib inline\n",
        "import matplotlib.pyplot as plt\n",
        "import seaborn as sns; sns.set(style='whitegrid')\n",
        "\n",
        "df = pd.read_csv(\"pulsar_stars.csv\")\n",
        "df.head()"
      ]
    },
    {
      "cell_type": "markdown",
      "metadata": {
        "id": "iEasOKJBLzVm"
      },
      "source": [
        "**Consigne** : Est-on dans un problème de classification déséquilibré ?"
      ]
    },
    {
      "cell_type": "code",
      "execution_count": 11,
      "metadata": {
        "id": "HYLJhS8IL5Fu"
      },
      "outputs": [
        {
          "data": {
            "text/plain": [
              "0.908425522404738"
            ]
          },
          "execution_count": 11,
          "metadata": {},
          "output_type": "execute_result"
        }
      ],
      "source": [
        "df[df.target==1]['target'].count()/df.shape[0]\n",
        "df[df.target==0]['target'].count()/df.shape[0]\n",
        "d"
      ]
    },
    {
      "cell_type": "code",
      "execution_count": 13,
      "metadata": {},
      "outputs": [
        {
          "data": {
            "text/html": [
              "<div>\n",
              "<style scoped>\n",
              "    .dataframe tbody tr th:only-of-type {\n",
              "        vertical-align: middle;\n",
              "    }\n",
              "\n",
              "    .dataframe tbody tr th {\n",
              "        vertical-align: top;\n",
              "    }\n",
              "\n",
              "    .dataframe thead th {\n",
              "        text-align: right;\n",
              "    }\n",
              "</style>\n",
              "<table border=\"1\" class=\"dataframe\">\n",
              "  <thead>\n",
              "    <tr style=\"text-align: right;\">\n",
              "      <th></th>\n",
              "      <th>Mean_ip</th>\n",
              "      <th>Std_ip</th>\n",
              "      <th>Excess_kurtosis_ip</th>\n",
              "      <th>Skewness_ip</th>\n",
              "      <th>Mean_DM</th>\n",
              "      <th>Std_DM</th>\n",
              "      <th>Excess_kurtosis_DM</th>\n",
              "      <th>Skewness_DM</th>\n",
              "    </tr>\n",
              "    <tr>\n",
              "      <th>target</th>\n",
              "      <th></th>\n",
              "      <th></th>\n",
              "      <th></th>\n",
              "      <th></th>\n",
              "      <th></th>\n",
              "      <th></th>\n",
              "      <th></th>\n",
              "      <th></th>\n",
              "    </tr>\n",
              "  </thead>\n",
              "  <tbody>\n",
              "    <tr>\n",
              "      <th>0</th>\n",
              "      <td>16259</td>\n",
              "      <td>16259</td>\n",
              "      <td>16259</td>\n",
              "      <td>16259</td>\n",
              "      <td>16259</td>\n",
              "      <td>16259</td>\n",
              "      <td>16259</td>\n",
              "      <td>16259</td>\n",
              "    </tr>\n",
              "    <tr>\n",
              "      <th>1</th>\n",
              "      <td>1639</td>\n",
              "      <td>1639</td>\n",
              "      <td>1639</td>\n",
              "      <td>1639</td>\n",
              "      <td>1639</td>\n",
              "      <td>1639</td>\n",
              "      <td>1639</td>\n",
              "      <td>1639</td>\n",
              "    </tr>\n",
              "  </tbody>\n",
              "</table>\n",
              "</div>"
            ],
            "text/plain": [
              "        Mean_ip  Std_ip  Excess_kurtosis_ip  Skewness_ip  Mean_DM  Std_DM  \\\n",
              "target                                                                      \n",
              "0         16259   16259               16259        16259    16259   16259   \n",
              "1          1639    1639                1639         1639     1639    1639   \n",
              "\n",
              "        Excess_kurtosis_DM  Skewness_DM  \n",
              "target                                   \n",
              "0                    16259        16259  \n",
              "1                     1639         1639  "
            ]
          },
          "execution_count": 13,
          "metadata": {},
          "output_type": "execute_result"
        }
      ],
      "source": [
        "df.groupby('target').count()"
      ]
    },
    {
      "cell_type": "markdown",
      "metadata": {
        "id": "vSFWCRU3PcEP"
      },
      "source": [
        "Nous allons découper le dataset en trois parties:\n",
        "* **Train** : entraîner le prédicteur\n",
        "* **Validation** : recalibrer les prédictions\n",
        "* **Test** : mesurer les performances du modèle\n",
        "\n",
        "**Consignes** : Générer les trois bases puis les standardiser les trois bases. Enfin, afficher les tailles et la proportion de déséquilibre de chaque bases."
      ]
    },
    {
      "cell_type": "code",
      "execution_count": 25,
      "metadata": {
        "id": "OwtOl2vOzhct"
      },
      "outputs": [],
      "source": [
        "nb_observ = df.shape[0]\n",
        "observ = np.arange(nb_observ)\n",
        "np.random.shuffle(observ)"
      ]
    },
    {
      "cell_type": "code",
      "execution_count": 55,
      "metadata": {},
      "outputs": [],
      "source": [
        "train,test,validation = observ[:int(0.6*len(observ))],observ[int(0.6*len(observ)):int(0.8*len(observ))],observ[int(0.8*len(observ)):]\n",
        "Train, Test, Valid = df.T[train].T,df.T[test].T,df.T[validation].T"
      ]
    },
    {
      "cell_type": "code",
      "execution_count": 112,
      "metadata": {},
      "outputs": [],
      "source": [
        "X_train,Y_train = Train.iloc[:,:8], Train.iloc[:,8:]\n",
        "X_test,Y_test = Test.iloc[:,:8], Test.iloc[:,8:]\n",
        "X_valid,Y_valid = Valid.iloc[:,:8], Valid.iloc[:,8:]"
      ]
    },
    {
      "cell_type": "code",
      "execution_count": 113,
      "metadata": {},
      "outputs": [],
      "source": [
        "from sklearn.preprocessing import StandardScaler as SS"
      ]
    },
    {
      "cell_type": "code",
      "execution_count": 114,
      "metadata": {},
      "outputs": [
        {
          "data": {
            "text/plain": [
              "array([[-0.53356219, -0.57524983, -0.08073741, ...,  0.21825878,\n",
              "        -0.5664693 , -0.67970625],\n",
              "       [-0.11880603, -0.09824904, -0.31812669, ..., -0.91443283,\n",
              "         3.63275451,  5.4495754 ],\n",
              "       [ 0.59111776,  0.05159734, -0.57715148, ..., -0.59492695,\n",
              "         0.44936034,  0.26618083],\n",
              "       ...,\n",
              "       [-1.59007971, -0.67776122,  1.21626386, ...,  1.16776896,\n",
              "        -1.08881305, -0.88644485],\n",
              "       [ 0.83942372, -0.86781383, -0.33512317, ..., -0.59150363,\n",
              "         0.20124599,  0.0297125 ],\n",
              "       [ 0.5259983 ,  0.48864402, -0.44711054, ...,  0.30241735,\n",
              "        -0.92096422, -0.8246185 ]])"
            ]
          },
          "execution_count": 114,
          "metadata": {},
          "output_type": "execute_result"
        }
      ],
      "source": [
        "ss = SS()\n",
        "ss.fit_transform(X_train)\n",
        "ss.transform(X_test)\n",
        "ss.transform(X_valid)"
      ]
    },
    {
      "cell_type": "markdown",
      "metadata": {
        "id": "aIL7PtH2P39d"
      },
      "source": [
        "Nous remarquons que l'on travaille avec un dataset qui est déséquilibré de l'ordre de 9% de présence de la classe d'intérêt. Nous verrons comment cela peut impacter les prédictions.\n",
        "\n",
        "## Entraînement du prédicteur\n",
        "\n",
        "On décide de travailler avec une régression logistique et de mesurer les performances avec les métriques usuelles.\n",
        "\n",
        "**Consigne** : Entraîner une régression logistique et prédire sur jeu de test."
      ]
    },
    {
      "cell_type": "code",
      "execution_count": 115,
      "metadata": {},
      "outputs": [
        {
          "data": {
            "text/html": [
              "<div>\n",
              "<style scoped>\n",
              "    .dataframe tbody tr th:only-of-type {\n",
              "        vertical-align: middle;\n",
              "    }\n",
              "\n",
              "    .dataframe tbody tr th {\n",
              "        vertical-align: top;\n",
              "    }\n",
              "\n",
              "    .dataframe thead th {\n",
              "        text-align: right;\n",
              "    }\n",
              "</style>\n",
              "<table border=\"1\" class=\"dataframe\">\n",
              "  <thead>\n",
              "    <tr style=\"text-align: right;\">\n",
              "      <th></th>\n",
              "      <th>target</th>\n",
              "    </tr>\n",
              "  </thead>\n",
              "  <tbody>\n",
              "    <tr>\n",
              "      <th>16168</th>\n",
              "      <td>0.0</td>\n",
              "    </tr>\n",
              "    <tr>\n",
              "      <th>1151</th>\n",
              "      <td>0.0</td>\n",
              "    </tr>\n",
              "    <tr>\n",
              "      <th>2449</th>\n",
              "      <td>0.0</td>\n",
              "    </tr>\n",
              "    <tr>\n",
              "      <th>17628</th>\n",
              "      <td>0.0</td>\n",
              "    </tr>\n",
              "    <tr>\n",
              "      <th>1539</th>\n",
              "      <td>0.0</td>\n",
              "    </tr>\n",
              "    <tr>\n",
              "      <th>...</th>\n",
              "      <td>...</td>\n",
              "    </tr>\n",
              "    <tr>\n",
              "      <th>16075</th>\n",
              "      <td>0.0</td>\n",
              "    </tr>\n",
              "    <tr>\n",
              "      <th>5461</th>\n",
              "      <td>0.0</td>\n",
              "    </tr>\n",
              "    <tr>\n",
              "      <th>2750</th>\n",
              "      <td>0.0</td>\n",
              "    </tr>\n",
              "    <tr>\n",
              "      <th>17639</th>\n",
              "      <td>0.0</td>\n",
              "    </tr>\n",
              "    <tr>\n",
              "      <th>17337</th>\n",
              "      <td>0.0</td>\n",
              "    </tr>\n",
              "  </tbody>\n",
              "</table>\n",
              "<p>10738 rows × 1 columns</p>\n",
              "</div>"
            ],
            "text/plain": [
              "       target\n",
              "16168     0.0\n",
              "1151      0.0\n",
              "2449      0.0\n",
              "17628     0.0\n",
              "1539      0.0\n",
              "...       ...\n",
              "16075     0.0\n",
              "5461      0.0\n",
              "2750      0.0\n",
              "17639     0.0\n",
              "17337     0.0\n",
              "\n",
              "[10738 rows x 1 columns]"
            ]
          },
          "execution_count": 115,
          "metadata": {},
          "output_type": "execute_result"
        }
      ],
      "source": [
        "Y_train"
      ]
    },
    {
      "cell_type": "code",
      "execution_count": 116,
      "metadata": {
        "id": "Xmk3lFAb1QAH"
      },
      "outputs": [
        {
          "name": "stderr",
          "output_type": "stream",
          "text": [
            "/Users/mcbookairdebat/Library/Python/3.9/lib/python/site-packages/sklearn/utils/validation.py:1339: DataConversionWarning: A column-vector y was passed when a 1d array was expected. Please change the shape of y to (n_samples, ), for example using ravel().\n",
            "  y = column_or_1d(y, warn=True)\n",
            "/Users/mcbookairdebat/Library/Python/3.9/lib/python/site-packages/sklearn/linear_model/_logistic.py:469: ConvergenceWarning: lbfgs failed to converge (status=1):\n",
            "STOP: TOTAL NO. of ITERATIONS REACHED LIMIT.\n",
            "\n",
            "Increase the number of iterations (max_iter) or scale the data as shown in:\n",
            "    https://scikit-learn.org/stable/modules/preprocessing.html\n",
            "Please also refer to the documentation for alternative solver options:\n",
            "    https://scikit-learn.org/stable/modules/linear_model.html#logistic-regression\n",
            "  n_iter_i = _check_optimize_result(\n"
          ]
        },
        {
          "data": {
            "text/html": [
              "<style>#sk-container-id-5 {\n",
              "  /* Definition of color scheme common for light and dark mode */\n",
              "  --sklearn-color-text: black;\n",
              "  --sklearn-color-line: gray;\n",
              "  /* Definition of color scheme for unfitted estimators */\n",
              "  --sklearn-color-unfitted-level-0: #fff5e6;\n",
              "  --sklearn-color-unfitted-level-1: #f6e4d2;\n",
              "  --sklearn-color-unfitted-level-2: #ffe0b3;\n",
              "  --sklearn-color-unfitted-level-3: chocolate;\n",
              "  /* Definition of color scheme for fitted estimators */\n",
              "  --sklearn-color-fitted-level-0: #f0f8ff;\n",
              "  --sklearn-color-fitted-level-1: #d4ebff;\n",
              "  --sklearn-color-fitted-level-2: #b3dbfd;\n",
              "  --sklearn-color-fitted-level-3: cornflowerblue;\n",
              "\n",
              "  /* Specific color for light theme */\n",
              "  --sklearn-color-text-on-default-background: var(--sg-text-color, var(--theme-code-foreground, var(--jp-content-font-color1, black)));\n",
              "  --sklearn-color-background: var(--sg-background-color, var(--theme-background, var(--jp-layout-color0, white)));\n",
              "  --sklearn-color-border-box: var(--sg-text-color, var(--theme-code-foreground, var(--jp-content-font-color1, black)));\n",
              "  --sklearn-color-icon: #696969;\n",
              "\n",
              "  @media (prefers-color-scheme: dark) {\n",
              "    /* Redefinition of color scheme for dark theme */\n",
              "    --sklearn-color-text-on-default-background: var(--sg-text-color, var(--theme-code-foreground, var(--jp-content-font-color1, white)));\n",
              "    --sklearn-color-background: var(--sg-background-color, var(--theme-background, var(--jp-layout-color0, #111)));\n",
              "    --sklearn-color-border-box: var(--sg-text-color, var(--theme-code-foreground, var(--jp-content-font-color1, white)));\n",
              "    --sklearn-color-icon: #878787;\n",
              "  }\n",
              "}\n",
              "\n",
              "#sk-container-id-5 {\n",
              "  color: var(--sklearn-color-text);\n",
              "}\n",
              "\n",
              "#sk-container-id-5 pre {\n",
              "  padding: 0;\n",
              "}\n",
              "\n",
              "#sk-container-id-5 input.sk-hidden--visually {\n",
              "  border: 0;\n",
              "  clip: rect(1px 1px 1px 1px);\n",
              "  clip: rect(1px, 1px, 1px, 1px);\n",
              "  height: 1px;\n",
              "  margin: -1px;\n",
              "  overflow: hidden;\n",
              "  padding: 0;\n",
              "  position: absolute;\n",
              "  width: 1px;\n",
              "}\n",
              "\n",
              "#sk-container-id-5 div.sk-dashed-wrapped {\n",
              "  border: 1px dashed var(--sklearn-color-line);\n",
              "  margin: 0 0.4em 0.5em 0.4em;\n",
              "  box-sizing: border-box;\n",
              "  padding-bottom: 0.4em;\n",
              "  background-color: var(--sklearn-color-background);\n",
              "}\n",
              "\n",
              "#sk-container-id-5 div.sk-container {\n",
              "  /* jupyter's `normalize.less` sets `[hidden] { display: none; }`\n",
              "     but bootstrap.min.css set `[hidden] { display: none !important; }`\n",
              "     so we also need the `!important` here to be able to override the\n",
              "     default hidden behavior on the sphinx rendered scikit-learn.org.\n",
              "     See: https://github.com/scikit-learn/scikit-learn/issues/21755 */\n",
              "  display: inline-block !important;\n",
              "  position: relative;\n",
              "}\n",
              "\n",
              "#sk-container-id-5 div.sk-text-repr-fallback {\n",
              "  display: none;\n",
              "}\n",
              "\n",
              "div.sk-parallel-item,\n",
              "div.sk-serial,\n",
              "div.sk-item {\n",
              "  /* draw centered vertical line to link estimators */\n",
              "  background-image: linear-gradient(var(--sklearn-color-text-on-default-background), var(--sklearn-color-text-on-default-background));\n",
              "  background-size: 2px 100%;\n",
              "  background-repeat: no-repeat;\n",
              "  background-position: center center;\n",
              "}\n",
              "\n",
              "/* Parallel-specific style estimator block */\n",
              "\n",
              "#sk-container-id-5 div.sk-parallel-item::after {\n",
              "  content: \"\";\n",
              "  width: 100%;\n",
              "  border-bottom: 2px solid var(--sklearn-color-text-on-default-background);\n",
              "  flex-grow: 1;\n",
              "}\n",
              "\n",
              "#sk-container-id-5 div.sk-parallel {\n",
              "  display: flex;\n",
              "  align-items: stretch;\n",
              "  justify-content: center;\n",
              "  background-color: var(--sklearn-color-background);\n",
              "  position: relative;\n",
              "}\n",
              "\n",
              "#sk-container-id-5 div.sk-parallel-item {\n",
              "  display: flex;\n",
              "  flex-direction: column;\n",
              "}\n",
              "\n",
              "#sk-container-id-5 div.sk-parallel-item:first-child::after {\n",
              "  align-self: flex-end;\n",
              "  width: 50%;\n",
              "}\n",
              "\n",
              "#sk-container-id-5 div.sk-parallel-item:last-child::after {\n",
              "  align-self: flex-start;\n",
              "  width: 50%;\n",
              "}\n",
              "\n",
              "#sk-container-id-5 div.sk-parallel-item:only-child::after {\n",
              "  width: 0;\n",
              "}\n",
              "\n",
              "/* Serial-specific style estimator block */\n",
              "\n",
              "#sk-container-id-5 div.sk-serial {\n",
              "  display: flex;\n",
              "  flex-direction: column;\n",
              "  align-items: center;\n",
              "  background-color: var(--sklearn-color-background);\n",
              "  padding-right: 1em;\n",
              "  padding-left: 1em;\n",
              "}\n",
              "\n",
              "\n",
              "/* Toggleable style: style used for estimator/Pipeline/ColumnTransformer box that is\n",
              "clickable and can be expanded/collapsed.\n",
              "- Pipeline and ColumnTransformer use this feature and define the default style\n",
              "- Estimators will overwrite some part of the style using the `sk-estimator` class\n",
              "*/\n",
              "\n",
              "/* Pipeline and ColumnTransformer style (default) */\n",
              "\n",
              "#sk-container-id-5 div.sk-toggleable {\n",
              "  /* Default theme specific background. It is overwritten whether we have a\n",
              "  specific estimator or a Pipeline/ColumnTransformer */\n",
              "  background-color: var(--sklearn-color-background);\n",
              "}\n",
              "\n",
              "/* Toggleable label */\n",
              "#sk-container-id-5 label.sk-toggleable__label {\n",
              "  cursor: pointer;\n",
              "  display: block;\n",
              "  width: 100%;\n",
              "  margin-bottom: 0;\n",
              "  padding: 0.5em;\n",
              "  box-sizing: border-box;\n",
              "  text-align: center;\n",
              "}\n",
              "\n",
              "#sk-container-id-5 label.sk-toggleable__label-arrow:before {\n",
              "  /* Arrow on the left of the label */\n",
              "  content: \"▸\";\n",
              "  float: left;\n",
              "  margin-right: 0.25em;\n",
              "  color: var(--sklearn-color-icon);\n",
              "}\n",
              "\n",
              "#sk-container-id-5 label.sk-toggleable__label-arrow:hover:before {\n",
              "  color: var(--sklearn-color-text);\n",
              "}\n",
              "\n",
              "/* Toggleable content - dropdown */\n",
              "\n",
              "#sk-container-id-5 div.sk-toggleable__content {\n",
              "  max-height: 0;\n",
              "  max-width: 0;\n",
              "  overflow: hidden;\n",
              "  text-align: left;\n",
              "  /* unfitted */\n",
              "  background-color: var(--sklearn-color-unfitted-level-0);\n",
              "}\n",
              "\n",
              "#sk-container-id-5 div.sk-toggleable__content.fitted {\n",
              "  /* fitted */\n",
              "  background-color: var(--sklearn-color-fitted-level-0);\n",
              "}\n",
              "\n",
              "#sk-container-id-5 div.sk-toggleable__content pre {\n",
              "  margin: 0.2em;\n",
              "  border-radius: 0.25em;\n",
              "  color: var(--sklearn-color-text);\n",
              "  /* unfitted */\n",
              "  background-color: var(--sklearn-color-unfitted-level-0);\n",
              "}\n",
              "\n",
              "#sk-container-id-5 div.sk-toggleable__content.fitted pre {\n",
              "  /* unfitted */\n",
              "  background-color: var(--sklearn-color-fitted-level-0);\n",
              "}\n",
              "\n",
              "#sk-container-id-5 input.sk-toggleable__control:checked~div.sk-toggleable__content {\n",
              "  /* Expand drop-down */\n",
              "  max-height: 200px;\n",
              "  max-width: 100%;\n",
              "  overflow: auto;\n",
              "}\n",
              "\n",
              "#sk-container-id-5 input.sk-toggleable__control:checked~label.sk-toggleable__label-arrow:before {\n",
              "  content: \"▾\";\n",
              "}\n",
              "\n",
              "/* Pipeline/ColumnTransformer-specific style */\n",
              "\n",
              "#sk-container-id-5 div.sk-label input.sk-toggleable__control:checked~label.sk-toggleable__label {\n",
              "  color: var(--sklearn-color-text);\n",
              "  background-color: var(--sklearn-color-unfitted-level-2);\n",
              "}\n",
              "\n",
              "#sk-container-id-5 div.sk-label.fitted input.sk-toggleable__control:checked~label.sk-toggleable__label {\n",
              "  background-color: var(--sklearn-color-fitted-level-2);\n",
              "}\n",
              "\n",
              "/* Estimator-specific style */\n",
              "\n",
              "/* Colorize estimator box */\n",
              "#sk-container-id-5 div.sk-estimator input.sk-toggleable__control:checked~label.sk-toggleable__label {\n",
              "  /* unfitted */\n",
              "  background-color: var(--sklearn-color-unfitted-level-2);\n",
              "}\n",
              "\n",
              "#sk-container-id-5 div.sk-estimator.fitted input.sk-toggleable__control:checked~label.sk-toggleable__label {\n",
              "  /* fitted */\n",
              "  background-color: var(--sklearn-color-fitted-level-2);\n",
              "}\n",
              "\n",
              "#sk-container-id-5 div.sk-label label.sk-toggleable__label,\n",
              "#sk-container-id-5 div.sk-label label {\n",
              "  /* The background is the default theme color */\n",
              "  color: var(--sklearn-color-text-on-default-background);\n",
              "}\n",
              "\n",
              "/* On hover, darken the color of the background */\n",
              "#sk-container-id-5 div.sk-label:hover label.sk-toggleable__label {\n",
              "  color: var(--sklearn-color-text);\n",
              "  background-color: var(--sklearn-color-unfitted-level-2);\n",
              "}\n",
              "\n",
              "/* Label box, darken color on hover, fitted */\n",
              "#sk-container-id-5 div.sk-label.fitted:hover label.sk-toggleable__label.fitted {\n",
              "  color: var(--sklearn-color-text);\n",
              "  background-color: var(--sklearn-color-fitted-level-2);\n",
              "}\n",
              "\n",
              "/* Estimator label */\n",
              "\n",
              "#sk-container-id-5 div.sk-label label {\n",
              "  font-family: monospace;\n",
              "  font-weight: bold;\n",
              "  display: inline-block;\n",
              "  line-height: 1.2em;\n",
              "}\n",
              "\n",
              "#sk-container-id-5 div.sk-label-container {\n",
              "  text-align: center;\n",
              "}\n",
              "\n",
              "/* Estimator-specific */\n",
              "#sk-container-id-5 div.sk-estimator {\n",
              "  font-family: monospace;\n",
              "  border: 1px dotted var(--sklearn-color-border-box);\n",
              "  border-radius: 0.25em;\n",
              "  box-sizing: border-box;\n",
              "  margin-bottom: 0.5em;\n",
              "  /* unfitted */\n",
              "  background-color: var(--sklearn-color-unfitted-level-0);\n",
              "}\n",
              "\n",
              "#sk-container-id-5 div.sk-estimator.fitted {\n",
              "  /* fitted */\n",
              "  background-color: var(--sklearn-color-fitted-level-0);\n",
              "}\n",
              "\n",
              "/* on hover */\n",
              "#sk-container-id-5 div.sk-estimator:hover {\n",
              "  /* unfitted */\n",
              "  background-color: var(--sklearn-color-unfitted-level-2);\n",
              "}\n",
              "\n",
              "#sk-container-id-5 div.sk-estimator.fitted:hover {\n",
              "  /* fitted */\n",
              "  background-color: var(--sklearn-color-fitted-level-2);\n",
              "}\n",
              "\n",
              "/* Specification for estimator info (e.g. \"i\" and \"?\") */\n",
              "\n",
              "/* Common style for \"i\" and \"?\" */\n",
              "\n",
              ".sk-estimator-doc-link,\n",
              "a:link.sk-estimator-doc-link,\n",
              "a:visited.sk-estimator-doc-link {\n",
              "  float: right;\n",
              "  font-size: smaller;\n",
              "  line-height: 1em;\n",
              "  font-family: monospace;\n",
              "  background-color: var(--sklearn-color-background);\n",
              "  border-radius: 1em;\n",
              "  height: 1em;\n",
              "  width: 1em;\n",
              "  text-decoration: none !important;\n",
              "  margin-left: 1ex;\n",
              "  /* unfitted */\n",
              "  border: var(--sklearn-color-unfitted-level-1) 1pt solid;\n",
              "  color: var(--sklearn-color-unfitted-level-1);\n",
              "}\n",
              "\n",
              ".sk-estimator-doc-link.fitted,\n",
              "a:link.sk-estimator-doc-link.fitted,\n",
              "a:visited.sk-estimator-doc-link.fitted {\n",
              "  /* fitted */\n",
              "  border: var(--sklearn-color-fitted-level-1) 1pt solid;\n",
              "  color: var(--sklearn-color-fitted-level-1);\n",
              "}\n",
              "\n",
              "/* On hover */\n",
              "div.sk-estimator:hover .sk-estimator-doc-link:hover,\n",
              ".sk-estimator-doc-link:hover,\n",
              "div.sk-label-container:hover .sk-estimator-doc-link:hover,\n",
              ".sk-estimator-doc-link:hover {\n",
              "  /* unfitted */\n",
              "  background-color: var(--sklearn-color-unfitted-level-3);\n",
              "  color: var(--sklearn-color-background);\n",
              "  text-decoration: none;\n",
              "}\n",
              "\n",
              "div.sk-estimator.fitted:hover .sk-estimator-doc-link.fitted:hover,\n",
              ".sk-estimator-doc-link.fitted:hover,\n",
              "div.sk-label-container:hover .sk-estimator-doc-link.fitted:hover,\n",
              ".sk-estimator-doc-link.fitted:hover {\n",
              "  /* fitted */\n",
              "  background-color: var(--sklearn-color-fitted-level-3);\n",
              "  color: var(--sklearn-color-background);\n",
              "  text-decoration: none;\n",
              "}\n",
              "\n",
              "/* Span, style for the box shown on hovering the info icon */\n",
              ".sk-estimator-doc-link span {\n",
              "  display: none;\n",
              "  z-index: 9999;\n",
              "  position: relative;\n",
              "  font-weight: normal;\n",
              "  right: .2ex;\n",
              "  padding: .5ex;\n",
              "  margin: .5ex;\n",
              "  width: min-content;\n",
              "  min-width: 20ex;\n",
              "  max-width: 50ex;\n",
              "  color: var(--sklearn-color-text);\n",
              "  box-shadow: 2pt 2pt 4pt #999;\n",
              "  /* unfitted */\n",
              "  background: var(--sklearn-color-unfitted-level-0);\n",
              "  border: .5pt solid var(--sklearn-color-unfitted-level-3);\n",
              "}\n",
              "\n",
              ".sk-estimator-doc-link.fitted span {\n",
              "  /* fitted */\n",
              "  background: var(--sklearn-color-fitted-level-0);\n",
              "  border: var(--sklearn-color-fitted-level-3);\n",
              "}\n",
              "\n",
              ".sk-estimator-doc-link:hover span {\n",
              "  display: block;\n",
              "}\n",
              "\n",
              "/* \"?\"-specific style due to the `<a>` HTML tag */\n",
              "\n",
              "#sk-container-id-5 a.estimator_doc_link {\n",
              "  float: right;\n",
              "  font-size: 1rem;\n",
              "  line-height: 1em;\n",
              "  font-family: monospace;\n",
              "  background-color: var(--sklearn-color-background);\n",
              "  border-radius: 1rem;\n",
              "  height: 1rem;\n",
              "  width: 1rem;\n",
              "  text-decoration: none;\n",
              "  /* unfitted */\n",
              "  color: var(--sklearn-color-unfitted-level-1);\n",
              "  border: var(--sklearn-color-unfitted-level-1) 1pt solid;\n",
              "}\n",
              "\n",
              "#sk-container-id-5 a.estimator_doc_link.fitted {\n",
              "  /* fitted */\n",
              "  border: var(--sklearn-color-fitted-level-1) 1pt solid;\n",
              "  color: var(--sklearn-color-fitted-level-1);\n",
              "}\n",
              "\n",
              "/* On hover */\n",
              "#sk-container-id-5 a.estimator_doc_link:hover {\n",
              "  /* unfitted */\n",
              "  background-color: var(--sklearn-color-unfitted-level-3);\n",
              "  color: var(--sklearn-color-background);\n",
              "  text-decoration: none;\n",
              "}\n",
              "\n",
              "#sk-container-id-5 a.estimator_doc_link.fitted:hover {\n",
              "  /* fitted */\n",
              "  background-color: var(--sklearn-color-fitted-level-3);\n",
              "}\n",
              "</style><div id=\"sk-container-id-5\" class=\"sk-top-container\"><div class=\"sk-text-repr-fallback\"><pre>LogisticRegression()</pre><b>In a Jupyter environment, please rerun this cell to show the HTML representation or trust the notebook. <br />On GitHub, the HTML representation is unable to render, please try loading this page with nbviewer.org.</b></div><div class=\"sk-container\" hidden><div class=\"sk-item\"><div class=\"sk-estimator fitted sk-toggleable\"><input class=\"sk-toggleable__control sk-hidden--visually\" id=\"sk-estimator-id-5\" type=\"checkbox\" checked><label for=\"sk-estimator-id-5\" class=\"sk-toggleable__label fitted sk-toggleable__label-arrow fitted\">&nbsp;&nbsp;LogisticRegression<a class=\"sk-estimator-doc-link fitted\" rel=\"noreferrer\" target=\"_blank\" href=\"https://scikit-learn.org/1.5/modules/generated/sklearn.linear_model.LogisticRegression.html\">?<span>Documentation for LogisticRegression</span></a><span class=\"sk-estimator-doc-link fitted\">i<span>Fitted</span></span></label><div class=\"sk-toggleable__content fitted\"><pre>LogisticRegression()</pre></div> </div></div></div></div>"
            ],
            "text/plain": [
              "LogisticRegression()"
            ]
          },
          "execution_count": 116,
          "metadata": {},
          "output_type": "execute_result"
        }
      ],
      "source": [
        "from sklearn.linear_model import LogisticRegression as LR \n",
        "lr = LR()\n",
        "lr.fit(X_train,Y_train)\n"
      ]
    },
    {
      "cell_type": "code",
      "execution_count": 117,
      "metadata": {},
      "outputs": [
        {
          "name": "stderr",
          "output_type": "stream",
          "text": [
            "/var/folders/lc/t3q2r39x05ndfqz7hm78wmkc0000gn/T/ipykernel_6586/637931809.py:1: SettingWithCopyWarning: \n",
            "A value is trying to be set on a copy of a slice from a DataFrame.\n",
            "Try using .loc[row_indexer,col_indexer] = value instead\n",
            "\n",
            "See the caveats in the documentation: https://pandas.pydata.org/pandas-docs/stable/user_guide/indexing.html#returning-a-view-versus-a-copy\n",
            "  Y_test['pred'] = lr.predict(X_test)\n"
          ]
        },
        {
          "data": {
            "text/html": [
              "<div>\n",
              "<style scoped>\n",
              "    .dataframe tbody tr th:only-of-type {\n",
              "        vertical-align: middle;\n",
              "    }\n",
              "\n",
              "    .dataframe tbody tr th {\n",
              "        vertical-align: top;\n",
              "    }\n",
              "\n",
              "    .dataframe thead th {\n",
              "        text-align: right;\n",
              "    }\n",
              "</style>\n",
              "<table border=\"1\" class=\"dataframe\">\n",
              "  <thead>\n",
              "    <tr style=\"text-align: right;\">\n",
              "      <th></th>\n",
              "      <th>Mean_ip</th>\n",
              "      <th>Std_ip</th>\n",
              "      <th>Excess_kurtosis_ip</th>\n",
              "      <th>Skewness_ip</th>\n",
              "      <th>Mean_DM</th>\n",
              "      <th>Std_DM</th>\n",
              "      <th>Excess_kurtosis_DM</th>\n",
              "      <th>Skewness_DM</th>\n",
              "    </tr>\n",
              "  </thead>\n",
              "  <tbody>\n",
              "    <tr>\n",
              "      <th>5288</th>\n",
              "      <td>115.171875</td>\n",
              "      <td>49.570043</td>\n",
              "      <td>0.010619</td>\n",
              "      <td>-0.376220</td>\n",
              "      <td>0.714047</td>\n",
              "      <td>11.575122</td>\n",
              "      <td>17.542459</td>\n",
              "      <td>325.634031</td>\n",
              "    </tr>\n",
              "    <tr>\n",
              "      <th>5162</th>\n",
              "      <td>121.000000</td>\n",
              "      <td>51.225146</td>\n",
              "      <td>0.277578</td>\n",
              "      <td>0.091238</td>\n",
              "      <td>4.134615</td>\n",
              "      <td>21.145762</td>\n",
              "      <td>6.434801</td>\n",
              "      <td>48.301392</td>\n",
              "    </tr>\n",
              "    <tr>\n",
              "      <th>14395</th>\n",
              "      <td>107.453125</td>\n",
              "      <td>40.520222</td>\n",
              "      <td>0.215818</td>\n",
              "      <td>0.796276</td>\n",
              "      <td>2.357023</td>\n",
              "      <td>18.578779</td>\n",
              "      <td>9.896599</td>\n",
              "      <td>109.084449</td>\n",
              "    </tr>\n",
              "    <tr>\n",
              "      <th>1995</th>\n",
              "      <td>99.109375</td>\n",
              "      <td>43.226915</td>\n",
              "      <td>0.273002</td>\n",
              "      <td>0.715212</td>\n",
              "      <td>0.812709</td>\n",
              "      <td>11.137708</td>\n",
              "      <td>16.513894</td>\n",
              "      <td>308.024148</td>\n",
              "    </tr>\n",
              "    <tr>\n",
              "      <th>16945</th>\n",
              "      <td>133.929688</td>\n",
              "      <td>51.520806</td>\n",
              "      <td>-0.232662</td>\n",
              "      <td>-0.297318</td>\n",
              "      <td>14.297659</td>\n",
              "      <td>47.638901</td>\n",
              "      <td>3.248434</td>\n",
              "      <td>9.169081</td>\n",
              "    </tr>\n",
              "  </tbody>\n",
              "</table>\n",
              "</div>"
            ],
            "text/plain": [
              "          Mean_ip     Std_ip  Excess_kurtosis_ip  Skewness_ip    Mean_DM  \\\n",
              "5288   115.171875  49.570043            0.010619    -0.376220   0.714047   \n",
              "5162   121.000000  51.225146            0.277578     0.091238   4.134615   \n",
              "14395  107.453125  40.520222            0.215818     0.796276   2.357023   \n",
              "1995    99.109375  43.226915            0.273002     0.715212   0.812709   \n",
              "16945  133.929688  51.520806           -0.232662    -0.297318  14.297659   \n",
              "\n",
              "          Std_DM  Excess_kurtosis_DM  Skewness_DM  \n",
              "5288   11.575122           17.542459   325.634031  \n",
              "5162   21.145762            6.434801    48.301392  \n",
              "14395  18.578779            9.896599   109.084449  \n",
              "1995   11.137708           16.513894   308.024148  \n",
              "16945  47.638901            3.248434     9.169081  "
            ]
          },
          "execution_count": 117,
          "metadata": {},
          "output_type": "execute_result"
        }
      ],
      "source": [
        "Y_test['pred'] = lr.predict(X_test) \n",
        "X_test.head()"
      ]
    },
    {
      "cell_type": "code",
      "execution_count": 81,
      "metadata": {},
      "outputs": [
        {
          "data": {
            "text/plain": [
              "0.0"
            ]
          },
          "execution_count": 81,
          "metadata": {},
          "output_type": "execute_result"
        }
      ],
      "source": [
        "MSE = np.mean(((Y_test.target - Y_test.pred)**2))\n",
        "MSE"
      ]
    },
    {
      "cell_type": "markdown",
      "metadata": {
        "id": "zo2y42CrMK9v"
      },
      "source": [
        "On souhaite avoir une fonction de mesure de la performance selon plusieurs métriques.\n",
        "La fonction s'appellera *print_performances* et prendra en paramètres:\n",
        "* *y_true* : vecteur qui contient les vraies valeurs\n",
        "* *y_pred* : vecteur qui contient les valeurs prédites\n",
        "* *metrics* : une liste de métrique stockées sous forme de fontion au format scikit-learn. Par défaut, placer l'accuracy.\n",
        "Cette fonction affichera le nom de la métrique et la valeur de la performance.\n",
        "\n",
        "**Consigne** : rédiger cette fonction. On pourra utiliser le nom de la classe pour le nom de la métrique. Par exemple pour l'accuracy:"
      ]
    },
    {
      "cell_type": "code",
      "execution_count": 82,
      "metadata": {
        "colab": {
          "base_uri": "https://localhost:8080/"
        },
        "id": "t5-gF4BVMy-2",
        "outputId": "e0e3adcb-3b9c-40a2-948d-985c07db9571"
      },
      "outputs": [
        {
          "name": "stdout",
          "output_type": "stream",
          "text": [
            "accuracy_score\n"
          ]
        }
      ],
      "source": [
        "from sklearn.metrics import accuracy_score\n",
        "print(accuracy_score.__name__)"
      ]
    },
    {
      "cell_type": "code",
      "execution_count": 120,
      "metadata": {
        "id": "0xnuH6vX1yVw"
      },
      "outputs": [],
      "source": [
        "from sklearn.metrics import mean_squared_error,f1_score,recall_score,precision_score\n",
        "\n",
        "def print_performances(y_true, y_pred, metrics=[accuracy_score,mean_squared_error,f1_score,recall_score,precision_score]):\n",
        "  results ={}\n",
        "  for met in metrics:\n",
        "    results[met.__name__] = met(y_pred,y_true)\n",
        "  return  results "
      ]
    },
    {
      "cell_type": "code",
      "execution_count": null,
      "metadata": {},
      "outputs": [],
      "source": []
    },
    {
      "cell_type": "code",
      "execution_count": 121,
      "metadata": {},
      "outputs": [],
      "source": [
        "results = print_performances(Y_test.iloc[:,0],lr.predict(X_test))"
      ]
    },
    {
      "cell_type": "code",
      "execution_count": 122,
      "metadata": {},
      "outputs": [
        {
          "data": {
            "text/plain": [
              "{'accuracy_score': 0.975977653631285,\n",
              " 'mean_squared_error': 0.024022346368715083,\n",
              " 'f1_score': 0.858085808580858,\n",
              " 'recall_score': 0.9122807017543859,\n",
              " 'precision_score': 0.8099688473520249}"
            ]
          },
          "execution_count": 122,
          "metadata": {},
          "output_type": "execute_result"
        }
      ],
      "source": [
        "results"
      ]
    },
    {
      "cell_type": "markdown",
      "metadata": {
        "id": "kDZvWLFSQP0h"
      },
      "source": [
        "## Recalibration\n",
        "\n",
        "Il existe de nombreuse manière de recalibrer les prédictions. On décide de le faire par la température, qui est probablement la manière la plus simple pour travailler.\n",
        "\n",
        "On appelle **température** le scalaire $\\tau > 0$ qui modifie les prédictions (avant normalisation) $(y_i)_{i\\leqslant n}$ comme suit:\n",
        "\n",
        "$$\\forall i \\leqslant n, \\quad \\tilde{y_i} = \\frac{\\displaystyle \\exp\\left(\\frac{y_i}{\\tau}\\right)}{\\displaystyle \\sum_{j=1}^n \\exp\\left(\\frac{y_j}{\\tau}\\right)}$$\n",
        "\n",
        "Ainsi, si $\\tau=1$ cela ne change pas les prédictions. Voyons quel impact ce paramètre a.\n",
        "Nous allons avoir besoin à plusieurs reprise de deux fonctions:\n",
        "* La fonction sigmoid : $\\displaystyle \\sigma(x) = \\frac{1}{1+\\exp(-x)}$\n",
        "* Son inverse : $\\displaystyle \\sigma^{-1}(x) = \\log\\left(\\frac{x}{1—x}\\right)$\n",
        "Pour ne pas avoir de problème numérique avec $\\sigma^{-1}$, on va ajouter deux epsilons : $\\displaystyle \\tilde{\\sigma^{-1}} = \\ln\\left(\\frac{x}{1—x+\\varepsilon}+\\varepsilon\\right)$. De cette manière, on évite de diviser par zéro, et on évite d'avoir une valeur négative dans le logarithme.\n",
        "\n",
        "\n",
        "**Consigne** : Ecrire la fonction *temperature* qui prend en paramètre:\n",
        "* *probabilities* : un vecteur de prédiction, pas des logits\n",
        "* *tau* : valeur numérique, par défaut 1"
      ]
    },
    {
      "cell_type": "code",
      "execution_count": 147,
      "metadata": {
        "id": "fEcamyr63stC"
      },
      "outputs": [],
      "source": [
        "sigmoid = lambda x: 1 / (1+np.exp(-x))\n",
        "def logit(x, epsilon=1e-8):\n",
        "  return np.log(x / (1-x + epsilon) + epsilon)\n",
        "\n",
        "def temperature(probabilities, tau=1):\n",
        "  return (np.exp(probabilities/tau))/ np.sum(np.exp(probabilities/tau))"
      ]
    },
    {
      "cell_type": "markdown",
      "metadata": {
        "id": "xuERhNicn8LQ"
      },
      "source": [
        "Avec la méthode ** on obtient une matrice de prédiction. Dans notre cas, on a pour chaque observation (*i.e* chaque lignes) la prédiction d'appartenance à chaque classe (ici deux possibilités).\n",
        "\n",
        "**Consigne** : tracer la distribution de la probabilités d'être un pulsar selon plusieurs valeur de température."
      ]
    },
    {
      "cell_type": "code",
      "execution_count": 148,
      "metadata": {},
      "outputs": [],
      "source": [
        "p = lr.predict_proba(X_test)[:,1]"
      ]
    },
    {
      "cell_type": "code",
      "execution_count": 149,
      "metadata": {},
      "outputs": [
        {
          "name": "stderr",
          "output_type": "stream",
          "text": [
            "/var/folders/lc/t3q2r39x05ndfqz7hm78wmkc0000gn/T/ipykernel_6586/1172836659.py:1: UserWarning: \n",
            "\n",
            "`distplot` is a deprecated function and will be removed in seaborn v0.14.0.\n",
            "\n",
            "Please adapt your code to use either `displot` (a figure-level function with\n",
            "similar flexibility) or `histplot` (an axes-level function for histograms).\n",
            "\n",
            "For a guide to updating your code to use the new functions, please see\n",
            "https://gist.github.com/mwaskom/de44147ed2974457ad6372750bbe5751\n",
            "\n",
            "  sns.distplot(p, hist=True, kde=True,\n"
          ]
        },
        {
          "data": {
            "text/plain": [
              "<Axes: ylabel='Density'>"
            ]
          },
          "execution_count": 149,
          "metadata": {},
          "output_type": "execute_result"
        },
        {
          "data": {
            "image/png": "[encoded data removed]",
            "text/plain": [
              "<Figure size 640x480 with 1 Axes>"
            ]
          },
          "metadata": {},
          "output_type": "display_data"
        }
      ],
      "source": [
        "sns.distplot(p, hist=True, kde=True, \n",
        "             bins=int(180/5), color = 'darkblue', \n",
        "             hist_kws={'edgecolor':'black'},\n",
        "             kde_kws={'linewidth': 4})"
      ]
    },
    {
      "cell_type": "code",
      "execution_count": 151,
      "metadata": {},
      "outputs": [
        {
          "name": "stderr",
          "output_type": "stream",
          "text": [
            "/var/folders/lc/t3q2r39x05ndfqz7hm78wmkc0000gn/T/ipykernel_6586/252634684.py:1: UserWarning: \n",
            "\n",
            "`distplot` is a deprecated function and will be removed in seaborn v0.14.0.\n",
            "\n",
            "Please adapt your code to use either `displot` (a figure-level function with\n",
            "similar flexibility) or `histplot` (an axes-level function for histograms).\n",
            "\n",
            "For a guide to updating your code to use the new functions, please see\n",
            "https://gist.github.com/mwaskom/de44147ed2974457ad6372750bbe5751\n",
            "\n",
            "  sns.distplot(temperature(p,tau = 20), hist=True, kde=True,\n"
          ]
        },
        {
          "data": {
            "text/plain": [
              "<Axes: ylabel='Density'>"
            ]
          },
          "execution_count": 151,
          "metadata": {},
          "output_type": "execute_result"
        },
        {
          "data": {
            "image/png": "[encoded data removed]",
            "text/plain": [
              "<Figure size 640x480 with 1 Axes>"
            ]
          },
          "metadata": {},
          "output_type": "display_data"
        }
      ],
      "source": [
        "\n",
        "sns.distplot(temperature(p,tau = 20), hist=True, kde=True, \n",
        "             bins=int(180/5), color = 'darkblue', \n",
        "             hist_kws={'edgecolor':'black'},\n",
        "             kde_kws={'linewidth': 4})"
      ]
    },
    {
      "cell_type": "code",
      "execution_count": 141,
      "metadata": {
        "id": "9edxnh544Xbj"
      },
      "outputs": [
        {
          "data": {
            "text/plain": [
              "[<matplotlib.lines.Line2D at 0x302b44190>]"
            ]
          },
          "execution_count": 141,
          "metadata": {},
          "output_type": "execute_result"
        },
        {
          "data": {
            "image/png": "[encoded data removed]",
            "text/plain": [
              "<Figure size 640x480 with 1 Axes>"
            ]
          },
          "metadata": {},
          "output_type": "display_data"
        }
      ],
      "source": [
        "plt.plot(temperature(p,tau = 4))"
      ]
    },
    {
      "cell_type": "code",
      "execution_count": 142,
      "metadata": {},
      "outputs": [
        {
          "data": {
            "text/plain": [
              "[<matplotlib.lines.Line2D at 0x302b63e80>]"
            ]
          },
          "execution_count": 142,
          "metadata": {},
          "output_type": "execute_result"
        },
        {
          "data": {
            "image/png": "[encoded data removed]",
            "text/plain": [
              "<Figure size 640x480 with 1 Axes>"
            ]
          },
          "metadata": {},
          "output_type": "display_data"
        }
      ],
      "source": [
        "plt.plot(p)"
      ]
    },
    {
      "cell_type": "markdown",
      "metadata": {
        "id": "liBBFEspRzEf"
      },
      "source": [
        "On se propose de trouver la meilleure valeur de $\\tau$ pour calibrer au mieux les prédictions."
      ]
    },
    {
      "cell_type": "markdown",
      "metadata": {
        "id": "Dvwrk2NeN-zj"
      },
      "source": [
        "## Trouver la meilleure valeur de $\\tau$\n",
        "\n",
        "Pour le faire, nous allons utiliser les capacités d'optimisations de PyTorch. Puisque la *loss* qu'optimise la régression logistique est la *Cross-Entropy*, on va chercher à optimiser cette même loss sur les prédictions du jeu de validation.\n",
        "\n",
        "Commençons par préparer les objets dont nous aurons besoins:\n",
        "* Initialiser l'objet qui représentera la cross-entropie\n",
        "* Calculer les probabilités prédites pour chaque observations du dataset de validation et les transformer en logits\n",
        "\n",
        "**Consigne** : Compléter le code ci-dessous."
      ]
    },
    {
      "cell_type": "code",
      "execution_count": null,
      "metadata": {
        "id": "Ryd4BqMgPjbT"
      },
      "outputs": [],
      "source": [
        "import torch\n",
        "from torch.nn import CrossEntropyLoss\n",
        "\n",
        "loss = CrossEntropyLoss()\n",
        "probabilities_validation = model.predict_proba(...)\n",
        "y_valid_tensor = torch.Tensor(np.array(...)).type(torch.LongTensor)\n",
        "logits = torch.Tensor(logit(...))"
      ]
    },
    {
      "cell_type": "markdown",
      "metadata": {
        "id": "fDR4nEnESqCq"
      },
      "source": [
        "Nous aurons également besoin d'initialiser le paramètre $\\tau$ que l'on va apprendre et l'objet qui représentera l'optimizer. On décide de travailler avec [LBFGS](https://fr.wikipedia.org/wiki/Méthode_de_Broyden-Fletcher-Goldfarb-Shanno#:~:text=En%20mathématiques%2C%20la%20méthode%20de,algorithme%20à%20directions%20de%20descente.)."
      ]
    },
    {
      "cell_type": "code",
      "execution_count": null,
      "metadata": {
        "id": "tQdOPYk4UCNz"
      },
      "outputs": [],
      "source": [
        "tau_value = torch.nn.Parameter(torch.ones(1))\n",
        "optimizer = torch.optim.LBFGS([tau_value], lr=0.01, max_iter=1000)"
      ]
    },
    {
      "cell_type": "markdown",
      "metadata": {
        "id": "OygoWSGgTJBD"
      },
      "source": [
        "Calculons la valeur de la perte avant le post-processing :"
      ]
    },
    {
      "cell_type": "code",
      "execution_count": null,
      "metadata": {
        "id": "SBaWDQRnpWms"
      },
      "outputs": [],
      "source": [
        "scaled = logits / tau_value.unsqueeze(1).expand(logits.size(0), logits.size(1))\n",
        "loss_value = loss(scaled, y_valid_tensor)\n",
        "print(f\"Tau={tau_value.item()}, Loss={loss_value.item():0.4f}\")"
      ]
    },
    {
      "cell_type": "markdown",
      "metadata": {
        "id": "aTeKhNiFTNTZ"
      },
      "source": [
        "Mettons en place la boucle d'optimisation :"
      ]
    },
    {
      "cell_type": "code",
      "execution_count": null,
      "metadata": {
        "id": "DsuyvN4upZRr"
      },
      "outputs": [],
      "source": [
        "def eval():\n",
        "  optimizer.zero_grad()\n",
        "  scaled = logits / tau_value.unsqueeze(1).expand(logits.size(0), logits.size(1))\n",
        "  loss_value = loss(scaled, y_valid_tensor)\n",
        "  loss_value.backward()\n",
        "  return loss_value\n",
        "\n",
        "optimizer.step(eval)\n",
        "\n",
        "scaled = logits / tau_value.unsqueeze(1).expand(logits.size(0), logits.size(1))\n",
        "loss_value = loss(scaled, y_valid_tensor)\n",
        "print(f\"Tau={tau_value.item()}, Loss={loss_value.item():0.4f}\")"
      ]
    },
    {
      "cell_type": "markdown",
      "metadata": {
        "id": "V55VLzBCTQqx"
      },
      "source": [
        "La fonction de perte est bien plus faible après ce processing en passant de 0.10 à 0.07. Avant de continuer, essayons de rendre plus simple cette optimisation en construisant une unique fonction.\n",
        "\n",
        "\n",
        "**Consigne** : Rédiger une fonction qui prend en paramètres:\n",
        "* *model*: modèle type scikit-learn, entraîné\n",
        "* *X*: base de donnée à partir de laquelle les prédictions seront faites\n",
        "* *y*: vecteur des prédictions attendues\n",
        "Elle devra trouver la valeur optimale de température comme décrit ci-dessus."
      ]
    },
    {
      "cell_type": "code",
      "execution_count": null,
      "metadata": {
        "id": "wxyk_oy2ULeA"
      },
      "outputs": [],
      "source": [
        "def temperature_scaling(model, X, y):\n",
        "  ..."
      ]
    },
    {
      "cell_type": "markdown",
      "metadata": {
        "id": "Uzprcb19ULxG"
      },
      "source": [
        "Maintenant que l'on sait trouver la valeur optimale de température pour optimiser la performance de la loss sur le jeu de validation, on aimerait savoir si ça se traduit de la même manière pour les autres datasets.\n",
        "\n",
        "**Consigne** : pour chaque dataset, calculer la valeur de la loss avant et après le scaling par température."
      ]
    },
    {
      "cell_type": "code",
      "execution_count": null,
      "metadata": {
        "id": "eLCHGGUpravO"
      },
      "outputs": [],
      "source": []
    },
    {
      "cell_type": "markdown",
      "metadata": {
        "id": "FEZupbWiTY6B"
      },
      "source": [
        "On veut visualiser le changement du scaling de température sur les différentes métrique.\n",
        "Pour cela, on construit une fonction qui va nous permettre de voir plus plusieurs seuils la valeur de la précision, du recall et du f1-score.\n",
        "\n",
        "**Consigne** : Compléter la fonction."
      ]
    },
    {
      "cell_type": "code",
      "execution_count": null,
      "metadata": {
        "id": "QeOucgC6pS9i"
      },
      "outputs": [],
      "source": [
        "def plot_metrics(y_score, show=True):\n",
        "  precision = []\n",
        "  recall = []\n",
        "  f1 = []\n",
        "  thresholds = np.linspace(start=0.001, stop=0.99, num=50)\n",
        "\n",
        "  for threshold in thresholds:\n",
        "    y_pred = y_score[:, 1] > threshold\n",
        "    precision.append(...)\n",
        "    recall.append(...)\n",
        "    f1.append(...)\n",
        "\n",
        "  plt.axhline(y=np.max(f1), ls='--', alpha=0.8, color=sns.color_palette()[2])\n",
        "\n",
        "  plt.plot(thresholds, precision, label=\"Precision\")\n",
        "  plt.plot(thresholds, recall, label=\"Recall\")\n",
        "  plt.plot(thresholds, f1, label=\"F1-Score\", lw=2)\n",
        "\n",
        "  plt.scatter(thresholds[np.argmax(f1)], precision[np.argmax(f1)])\n",
        "  plt.scatter(thresholds[np.argmax(f1)], recall[np.argmax(f1)])\n",
        "  plt.scatter(thresholds[np.argmax(f1)], max(f1))\n",
        "  plt.ylim(0, 1)\n",
        "  plt.legend()\n",
        "  if show: plt.show()"
      ]
    },
    {
      "cell_type": "markdown",
      "metadata": {
        "id": "yqIwi8FKsMYp"
      },
      "source": [
        "**Consigne** : Exploiter la fonction complétée sur les prédictions sur le jeu de test. On veut voir la différence avant et après le scaling."
      ]
    },
    {
      "cell_type": "code",
      "execution_count": null,
      "metadata": {
        "id": "vHNolg2KsYej"
      },
      "outputs": [],
      "source": []
    },
    {
      "cell_type": "markdown",
      "metadata": {
        "id": "9-56rFxmsm_I"
      },
      "source": [
        "## Et la calibration ?\n",
        "\n",
        "Jusqu'ici nous avons optimisé la loss avec un post-processing. Nous avons vu en cours que la performance en terme de calibration est également lié à un gain de performance suite à un post-processing.\n",
        "Nous nous attendons donc à avoir une meilleure calibration après le scaling par la température.\n",
        "\n",
        "Pour l'observer visuellement, nous pouvons utiliser la fonction *calibration_curve* de [scikit-learn](https://scikit-learn.org/stable/modules/generated/sklearn.calibration.calibration_curve.html).\n",
        "\n",
        "**Consigne** : Visualiser la courbe de calibration avant et après le scaling, en traçant également le prédicteur parfaitement calibré."
      ]
    },
    {
      "cell_type": "code",
      "execution_count": null,
      "metadata": {
        "id": "P3SLiqjltLcw"
      },
      "outputs": [],
      "source": []
    },
    {
      "cell_type": "markdown",
      "metadata": {
        "id": "pYPZZUo3T5_T"
      },
      "source": [
        "## Pour continuer\n",
        "\n",
        "Nous avons construit tout un tas de fonction pour faciliter le travail. Utilisez les fonctions pour reproduire l'étude avec d'autres algorithmes !"
      ]
    }
  ],
  "metadata": {
    "colab": {
      "provenance": []
    },
    "kernelspec": {
      "display_name": "Python 3",
      "name": "python3"
    },
    "language_info": {
      "codemirror_mode": {
        "name": "ipython",
        "version": 3
      },
      "file_extension": ".py",
      "mimetype": "text/x-python",
      "name": "python",
      "nbconvert_exporter": "python",
      "pygments_lexer": "ipython3",
      "version": "3.9.6"
    }
  },
  "nbformat": 4,
  "nbformat_minor": 0
}
